{
 "cells": [
  {
   "cell_type": "markdown",
   "metadata": {},
   "source": [
    "# Install at CMD"
   ]
  },
  {
   "cell_type": "markdown",
   "metadata": {},
   "source": [
    "pip install flask\n",
    "pip install tweepy\n",
    "pip install flask-restful\n",
    "pip install python-dotenv"
   ]
  },
  {
   "cell_type": "markdown",
   "metadata": {},
   "source": [
    "# User Authentication Endpoint"
   ]
  },
  {
   "cell_type": "code",
   "execution_count": 1,
   "metadata": {},
   "outputs": [],
   "source": [
    "from flask import Flask, render_template, request, redirect, session, jsonify\n",
    "from flask_restful import Api, Resource\n",
    "from dotenv import load_dotenv\n",
    "from os import environ\n",
    "import json\n",
    "import tweepy\n",
    "import webbrowser\n",
    "load_dotenv()\n",
    "\n",
    "# Flask object is generated and developer keys are assigned\n",
    "app = Flask(__name__)\n",
    "callbackurl = 'http://127.0.0.1:5000/callback'\n",
    "consumer_key = environ['consumer_key']\n",
    "consumer_secret = environ['consumer_secret']\n",
    "\n",
    "# Redirect to twitter authentication\n",
    "@app.route('/')\n",
    "def auth():\n",
    "    auth = tweepy.OAuthHandler(consumer_key, consumer_secret, callbackurl)\n",
    "    return redirect(auth.get_authorization_url())\n",
    "\n",
    "# Assigns and sets users key and secret then redirects to a url\n",
    "@app.route('/callback')\n",
    "def botsense_callback():\n",
    "    auth = tweepy.OAuthHandler(consumer_key, consumer_secret, callbackurl)\n",
    "    token = request.args.get('oauth_token')\n",
    "    verifier = request.args.get('oauth_verifier')\n",
    "    auth.request_token = {'oauth_token': token,\n",
    "                             'oauth_token_secret': verifier}\n",
    "    auth.get_access_token(verifier)\n",
    "    key = auth.access_token\n",
    "    secret = auth.access_token_secret\n",
    "    session['key'] = key\n",
    "    session['secret'] = secret\n",
    "    \n",
    "    #return render_template('home.html')\n",
    "    \n",
    "    # TESTING\n",
    "    #return redirect('/api/v1/friendsList')\n",
    "    return redirect('/api/v1/followerList')\n",
    "    #return redirect('/api/v1/unfollowUser')\n",
    "    #return redirect('/api/v1/blockUser')\n",
    "    #return redirect('/api/v1/predict')"
   ]
  },
  {
   "cell_type": "markdown",
   "metadata": {},
   "source": [
    "# Friends List Endpoint"
   ]
  },
  {
   "cell_type": "code",
   "execution_count": 2,
   "metadata": {},
   "outputs": [],
   "source": [
    "@app.route('/api/v1/friendsList', methods = ['GET'])\n",
    "def friendsList():   \n",
    "    key = session['key']\n",
    "    secret = session['secret']\n",
    "    auth = tweepy.OAuthHandler(consumer_key, consumer_secret)\n",
    "    auth.set_access_token(key, secret)\n",
    "    api = tweepy.API(auth)\n",
    "    \n",
    "    # TEST: Using friends to create custom dictionary for 1 friend\n",
    "    friends = tweepy.Cursor(api.friends).items(1)\n",
    "    \n",
    "    # Creates a dictionary for every user and appends it to the userInfo list\n",
    "    userInfo = []\n",
    "    for user in friends:\n",
    "        userFeatures = {}\n",
    "        userFeatures[\"screen_name\"] = user.screen_name\n",
    "        userFeatures[\"followers_count\"] = user.followers_count\n",
    "        userFeatures[\"friends_count\"] = user.followers_count\n",
    "        userFeatures[\"verified\"] = user.verified\n",
    "        userFeatures[\"statuses_count\"] = user.statuses_count\n",
    "        userFeatures[\"listed_count\"] = user.listed_count\n",
    "        userInfo.append(userFeatures)\n",
    "    \n",
    "    return json.dumps(userInfo)"
   ]
  },
  {
   "cell_type": "markdown",
   "metadata": {},
   "source": [
    "# Follower List Endpoint"
   ]
  },
  {
   "cell_type": "code",
   "execution_count": 3,
   "metadata": {},
   "outputs": [],
   "source": [
    "@app.route('/api/v1/followerList', methods = ['GET'])\n",
    "def followerList():   \n",
    "    key = session['key']\n",
    "    secret = session['secret']\n",
    "    auth = tweepy.OAuthHandler(consumer_key, consumer_secret)\n",
    "    auth.set_access_token(key, secret)\n",
    "    api = tweepy.API(auth)\n",
    "    \n",
    "    # TEST: Using followers to create custom dictionary for 1 follower\n",
    "    followers = tweepy.Cursor(api.followers).items(1)\n",
    "    \n",
    "    # Creates a dictionary for every user and appends it to the userInfo list\n",
    "    userInfo = []\n",
    "    for user in followers:\n",
    "        userFeatures = {}\n",
    "        userFeatures[\"screen_name\"] = user.screen_name\n",
    "        userFeatures[\"followers_count\"] = user.followers_count\n",
    "        userFeatures[\"friends_count\"] = user.followers_count\n",
    "        userFeatures[\"verified\"] = user.verified\n",
    "        userFeatures[\"statuses_count\"] = user.statuses_count\n",
    "        userFeatures[\"listed_count\"] = user.listed_count\n",
    "        userInfo.append(userFeatures)\n",
    "    \n",
    "    return json.dumps(userInfo)"
   ]
  },
  {
   "cell_type": "markdown",
   "metadata": {},
   "source": [
    "# Unfollow User Endpoint (Not tested)"
   ]
  },
  {
   "cell_type": "code",
   "execution_count": 4,
   "metadata": {},
   "outputs": [],
   "source": [
    "@app.route('/api/v1/unfollowUser', methods = ['POST'])\n",
    "def unfollowUser():\n",
    "    key = session['key']\n",
    "    secret = session['secret']\n",
    "    auth = tweepy.OAuthHandler(consumer_key, consumer_secret)\n",
    "    auth.set_access_token(key, secret)\n",
    "    api = tweepy.API(auth)\n",
    "    \n",
    "    #For 1 user\n",
    "    screen_name = request.form['screen_name']\n",
    "    api.destroy_friendship(screen_name)"
   ]
  },
  {
   "cell_type": "markdown",
   "metadata": {},
   "source": [
    "# Block User Endpoint (Not tested)"
   ]
  },
  {
   "cell_type": "code",
   "execution_count": 5,
   "metadata": {},
   "outputs": [],
   "source": [
    "@app.route('/api/v1/blockUser', methods = ['POST'])\n",
    "def blockUser():\n",
    "    key = session['key']\n",
    "    secret = session['secret']\n",
    "    auth = tweepy.OAuthHandler(consumer_key, consumer_secret)\n",
    "    auth.set_access_token(key, secret)\n",
    "    api = tweepy.API(auth)\n",
    "\n",
    "    #For 1 user\n",
    "    screen_name = request.form['screen_name']\n",
    "    api.create_block(screen_name)"
   ]
  },
  {
   "cell_type": "markdown",
   "metadata": {},
   "source": [
    "# Predict Endpoint (Not tested)"
   ]
  },
  {
   "cell_type": "code",
   "execution_count": 6,
   "metadata": {},
   "outputs": [],
   "source": [
    "@app.route('/api/v1/predict', methods = ['POST'])\n",
    "def predict():\n",
    "    screen_name = request.form['screen_name']\n",
    "    followers_count = int(request.form['followers_count'])\n",
    "    friends_count = int(request.form['friends_count'])\n",
    "    verified = request.form['verified']\n",
    "    statuses_count = int(request.form['statuses_count'])\n",
    "    listed = request.form['listed']\n",
    "    listed_count_binary = False\n",
    "\n",
    "    #For 1 user\n",
    "    post_data = {'screen_name': request.form['screen_name'], 'followers_count':int(request.form['followers_count']), 'friends_count':int(request.form['friends_count']),\n",
    "                'verified':  request.form['verified'], 'listed_count_binary':'False', 'statuses_count': int(request.form['statuses_count']), 'listed':request.form['listed']}\n",
    "\n",
    "    return requests.post(\"http://bot-ml:5002/predict\", post_data)"
   ]
  },
  {
   "cell_type": "code",
   "execution_count": 7,
   "metadata": {},
   "outputs": [],
   "source": [
    "#@app.route('/api/v1/Userlist', methods = ['GET'])\n",
    "#def Userlist():   \n",
    "#    key = session['key']\n",
    "#    secret = session['secret']\n",
    "#    auth = tweepy.OAuthHandler(consumer_key, consumer_secret)\n",
    "#    auth.set_access_token(key, secret)\n",
    "#    api = tweepy.API(auth)\n",
    "    \n",
    "    # Assigns friends and follower user objects from twitter to variables\n",
    "#    friends = tweepy.Cursor(api.friends).items(20)\n",
    "#    followers = tweepy.Cursor(api.followers).items(20)\n",
    "    \n",
    "    # Creates a list of screen_names from the follower and friend user objects\n",
    "#    friendList = [user.screen_name for user in friends]\n",
    "#    followerList = [user.screen_name for user in followers]\n",
    "    \n",
    "    # Combines lists and removes duplicates if any exist\n",
    "#    knownUsers = friendList + followerList\n",
    "#    knownUsers = list(set(knownUsers))\n",
    "    \n",
    "#    return json.dumps(knownUsers)"
   ]
  },
  {
   "cell_type": "markdown",
   "metadata": {},
   "source": [
    "# Main"
   ]
  },
  {
   "cell_type": "code",
   "execution_count": null,
   "metadata": {
    "scrolled": true
   },
   "outputs": [
    {
     "name": "stdout",
     "output_type": "stream",
     "text": [
      " * Serving Flask app \"__main__\" (lazy loading)\n",
      " * Environment: production\n",
      "   WARNING: This is a development server. Do not use it in a production deployment.\n",
      "   Use a production WSGI server instead.\n",
      " * Debug mode: off\n"
     ]
    },
    {
     "name": "stderr",
     "output_type": "stream",
     "text": [
      " * Running on http://127.0.0.1:5000/ (Press CTRL+C to quit)\n",
      "127.0.0.1 - - [11/Apr/2021 00:42:47] \"\u001b[32mGET / HTTP/1.1\u001b[0m\" 302 -\n",
      "127.0.0.1 - - [11/Apr/2021 00:42:48] \"\u001b[32mGET /callback?oauth_token=TBJBcAAAAAABMD0VAAABeL90Myw&oauth_verifier=KIYuYCVxAAOPeKgy10gRwwg47vfQCpHL HTTP/1.1\u001b[0m\" 302 -\n",
      "127.0.0.1 - - [11/Apr/2021 00:42:49] \"\u001b[37mGET /api/v1/followerList HTTP/1.1\u001b[0m\" 200 -\n",
      "127.0.0.1 - - [11/Apr/2021 00:46:16] \"\u001b[32mGET / HTTP/1.1\u001b[0m\" 302 -\n",
      "127.0.0.1 - - [11/Apr/2021 00:46:17] \"\u001b[32mGET /callback?oauth_token=sq7AEgAAAAABMD0VAAABeL93Y7A&oauth_verifier=fr73WeudBdS40KnomfG7AdUj2Yyb3Xrt HTTP/1.1\u001b[0m\" 302 -\n",
      "127.0.0.1 - - [11/Apr/2021 00:46:18] \"\u001b[37mGET /api/v1/followerList HTTP/1.1\u001b[0m\" 200 -\n"
     ]
    }
   ],
   "source": [
    "if __name__=='__main__':\n",
    "    app.secret_key = environ['sessions_key']\n",
    "    app.run(debug=False)"
   ]
  }
 ],
 "metadata": {
  "kernelspec": {
   "display_name": "Python 3",
   "language": "python",
   "name": "python3"
  },
  "language_info": {
   "codemirror_mode": {
    "name": "ipython",
    "version": 3
   },
   "file_extension": ".py",
   "mimetype": "text/x-python",
   "name": "python",
   "nbconvert_exporter": "python",
   "pygments_lexer": "ipython3",
   "version": "3.8.5"
  }
 },
 "nbformat": 4,
 "nbformat_minor": 4
}
